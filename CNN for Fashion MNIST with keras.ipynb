{
    "nbformat_minor": 1, 
    "cells": [
        {
            "source": "# Convolutional Neural Network with keras", 
            "cell_type": "markdown", 
            "metadata": {
                "collapsed": true
            }
        }, 
        {
            "source": "### Importing libraries", 
            "cell_type": "markdown", 
            "metadata": {}
        }, 
        {
            "execution_count": 1, 
            "cell_type": "code", 
            "metadata": {}, 
            "outputs": [
                {
                    "output_type": "stream", 
                    "name": "stderr", 
                    "text": "Using TensorFlow backend.\n"
                }
            ], 
            "source": "import pandas as pd\nimport matplotlib.pyplot as plt\nfrom keras.models import Sequential\nfrom keras.layers import Dense, Conv2D, Flatten, Dropout, MaxPooling2D, ZeroPadding2D\nfrom keras.losses import categorical_crossentropy\nfrom keras.optimizers import Adam\nfrom keras.utils import to_categorical"
        }, 
        {
            "source": "### Loading the data", 
            "cell_type": "markdown", 
            "metadata": {}
        }, 
        {
            "source": "Fashion-MNIST database of fashion articles<br>\nDataset of 60,000 28x28 grayscale images of 10 fashion categories, along with a test set of 10,000 images.", 
            "cell_type": "markdown", 
            "metadata": {}
        }, 
        {
            "source": "<table><tr><th>Label</th>\t<th>Description</th></tr>\n<tr><td>0</td>\t<td>T-shirt/top</td></tr>\n<tr><td>1</td>\t<td>Trouser</td></tr>\n<tr><td>2</td>\t<td>Pullover</td></tr>\n<tr><td>3</td>\t<td>Dress</td></tr>\n<tr><td>4</td>\t<td>Coat</td></tr>\n<tr><td>5</td>\t<td>Sandal</td></tr>\n<tr><td>6</td>\t<td>Shirt</td></tr>\n<tr><td>7</td>\t<td>Sneaker</td></tr>\n<tr><td>8</td>\t<td>Bag</td></tr>\n<tr><td>9</td>\t<td>Ankle boot</td></tr></table>", 
            "cell_type": "markdown", 
            "metadata": {}
        }, 
        {
            "execution_count": 2, 
            "cell_type": "code", 
            "metadata": {}, 
            "outputs": [], 
            "source": "from keras.datasets import fashion_mnist\n\n(X_train, y_train), (X_test, y_test) = fashion_mnist.load_data()"
        }, 
        {
            "source": "## Exploring the data", 
            "cell_type": "markdown", 
            "metadata": {}
        }, 
        {
            "execution_count": 3, 
            "cell_type": "code", 
            "metadata": {}, 
            "outputs": [
                {
                    "output_type": "display_data", 
                    "data": {
                        "text/plain": "(60000, 28, 28)"
                    }, 
                    "metadata": {}
                }, 
                {
                    "output_type": "display_data", 
                    "data": {
                        "text/plain": "(60000,)"
                    }, 
                    "metadata": {}
                }, 
                {
                    "output_type": "display_data", 
                    "data": {
                        "text/plain": "(10000, 28, 28)"
                    }, 
                    "metadata": {}
                }, 
                {
                    "output_type": "display_data", 
                    "data": {
                        "text/plain": "(10000,)"
                    }, 
                    "metadata": {}
                }
            ], 
            "source": "display(X_train.shape)\ndisplay(y_train.shape)\ndisplay(X_test.shape)\ndisplay(y_test.shape)"
        }, 
        {
            "source": "### Reshaping the data", 
            "cell_type": "markdown", 
            "metadata": {}
        }, 
        {
            "execution_count": 4, 
            "cell_type": "code", 
            "metadata": {}, 
            "outputs": [], 
            "source": "X_train = X_train.reshape(X_train.shape[0], 28, 28, 1)\nX_test = X_test.reshape(X_test.shape[0], 28, 28, 1)"
        }, 
        {
            "execution_count": 5, 
            "cell_type": "code", 
            "metadata": {}, 
            "outputs": [
                {
                    "output_type": "display_data", 
                    "data": {
                        "text/plain": "(60000, 28, 28, 1)"
                    }, 
                    "metadata": {}
                }, 
                {
                    "output_type": "display_data", 
                    "data": {
                        "text/plain": "(10000, 28, 28, 1)"
                    }, 
                    "metadata": {}
                }
            ], 
            "source": "display(X_train.shape)\ndisplay(X_test.shape)"
        }, 
        {
            "execution_count": 6, 
            "cell_type": "code", 
            "metadata": {}, 
            "outputs": [
                {
                    "output_type": "stream", 
                    "name": "stdout", 
                    "text": "[[[  0]\n  [  0]\n  [  0]\n  [  0]\n  [  0]\n  [  0]\n  [  0]\n  [  0]\n  [  0]\n  [  0]\n  [  0]\n  [  0]\n  [  0]\n  [  0]\n  [  0]\n  [  0]\n  [  0]\n  [  0]\n  [  0]\n  [  0]\n  [  0]\n  [  0]\n  [  0]\n  [  0]\n  [  0]\n  [  0]\n  [  0]\n  [  0]]\n\n [[  0]\n  [  0]\n  [  0]\n  [  0]\n  [  0]\n  [  0]\n  [  0]\n  [  0]\n  [  0]\n  [  0]\n  [  0]\n  [  0]\n  [  0]\n  [  0]\n  [  0]\n  [  0]\n  [  0]\n  [  0]\n  [  0]\n  [  0]\n  [  0]\n  [  0]\n  [  0]\n  [  0]\n  [  0]\n  [  0]\n  [  0]\n  [  0]]\n\n [[  0]\n  [  0]\n  [  0]\n  [  0]\n  [  0]\n  [  0]\n  [  0]\n  [  0]\n  [  0]\n  [  0]\n  [  0]\n  [  0]\n  [  0]\n  [  0]\n  [  0]\n  [  0]\n  [  0]\n  [  0]\n  [  0]\n  [  0]\n  [  0]\n  [  0]\n  [  0]\n  [  0]\n  [  0]\n  [  0]\n  [  0]\n  [  0]]\n\n [[  0]\n  [  0]\n  [  0]\n  [  0]\n  [  0]\n  [  0]\n  [  0]\n  [  0]\n  [  0]\n  [  0]\n  [  0]\n  [  0]\n  [  1]\n  [  0]\n  [  0]\n  [ 13]\n  [ 73]\n  [  0]\n  [  0]\n  [  1]\n  [  4]\n  [  0]\n  [  0]\n  [  0]\n  [  0]\n  [  1]\n  [  1]\n  [  0]]\n\n [[  0]\n  [  0]\n  [  0]\n  [  0]\n  [  0]\n  [  0]\n  [  0]\n  [  0]\n  [  0]\n  [  0]\n  [  0]\n  [  0]\n  [  3]\n  [  0]\n  [ 36]\n  [136]\n  [127]\n  [ 62]\n  [ 54]\n  [  0]\n  [  0]\n  [  0]\n  [  1]\n  [  3]\n  [  4]\n  [  0]\n  [  0]\n  [  3]]\n\n [[  0]\n  [  0]\n  [  0]\n  [  0]\n  [  0]\n  [  0]\n  [  0]\n  [  0]\n  [  0]\n  [  0]\n  [  0]\n  [  0]\n  [  6]\n  [  0]\n  [102]\n  [204]\n  [176]\n  [134]\n  [144]\n  [123]\n  [ 23]\n  [  0]\n  [  0]\n  [  0]\n  [  0]\n  [ 12]\n  [ 10]\n  [  0]]\n\n [[  0]\n  [  0]\n  [  0]\n  [  0]\n  [  0]\n  [  0]\n  [  0]\n  [  0]\n  [  0]\n  [  0]\n  [  0]\n  [  0]\n  [  0]\n  [  0]\n  [155]\n  [236]\n  [207]\n  [178]\n  [107]\n  [156]\n  [161]\n  [109]\n  [ 64]\n  [ 23]\n  [ 77]\n  [130]\n  [ 72]\n  [ 15]]\n\n [[  0]\n  [  0]\n  [  0]\n  [  0]\n  [  0]\n  [  0]\n  [  0]\n  [  0]\n  [  0]\n  [  0]\n  [  0]\n  [  1]\n  [  0]\n  [ 69]\n  [207]\n  [223]\n  [218]\n  [216]\n  [216]\n  [163]\n  [127]\n  [121]\n  [122]\n  [146]\n  [141]\n  [ 88]\n  [172]\n  [ 66]]\n\n [[  0]\n  [  0]\n  [  0]\n  [  0]\n  [  0]\n  [  0]\n  [  0]\n  [  0]\n  [  0]\n  [  1]\n  [  1]\n  [  1]\n  [  0]\n  [200]\n  [232]\n  [232]\n  [233]\n  [229]\n  [223]\n  [223]\n  [215]\n  [213]\n  [164]\n  [127]\n  [123]\n  [196]\n  [229]\n  [  0]]\n\n [[  0]\n  [  0]\n  [  0]\n  [  0]\n  [  0]\n  [  0]\n  [  0]\n  [  0]\n  [  0]\n  [  0]\n  [  0]\n  [  0]\n  [  0]\n  [183]\n  [225]\n  [216]\n  [223]\n  [228]\n  [235]\n  [227]\n  [224]\n  [222]\n  [224]\n  [221]\n  [223]\n  [245]\n  [173]\n  [  0]]\n\n [[  0]\n  [  0]\n  [  0]\n  [  0]\n  [  0]\n  [  0]\n  [  0]\n  [  0]\n  [  0]\n  [  0]\n  [  0]\n  [  0]\n  [  0]\n  [193]\n  [228]\n  [218]\n  [213]\n  [198]\n  [180]\n  [212]\n  [210]\n  [211]\n  [213]\n  [223]\n  [220]\n  [243]\n  [202]\n  [  0]]\n\n [[  0]\n  [  0]\n  [  0]\n  [  0]\n  [  0]\n  [  0]\n  [  0]\n  [  0]\n  [  0]\n  [  1]\n  [  3]\n  [  0]\n  [ 12]\n  [219]\n  [220]\n  [212]\n  [218]\n  [192]\n  [169]\n  [227]\n  [208]\n  [218]\n  [224]\n  [212]\n  [226]\n  [197]\n  [209]\n  [ 52]]\n\n [[  0]\n  [  0]\n  [  0]\n  [  0]\n  [  0]\n  [  0]\n  [  0]\n  [  0]\n  [  0]\n  [  0]\n  [  6]\n  [  0]\n  [ 99]\n  [244]\n  [222]\n  [220]\n  [218]\n  [203]\n  [198]\n  [221]\n  [215]\n  [213]\n  [222]\n  [220]\n  [245]\n  [119]\n  [167]\n  [ 56]]\n\n [[  0]\n  [  0]\n  [  0]\n  [  0]\n  [  0]\n  [  0]\n  [  0]\n  [  0]\n  [  0]\n  [  4]\n  [  0]\n  [  0]\n  [ 55]\n  [236]\n  [228]\n  [230]\n  [228]\n  [240]\n  [232]\n  [213]\n  [218]\n  [223]\n  [234]\n  [217]\n  [217]\n  [209]\n  [ 92]\n  [  0]]\n\n [[  0]\n  [  0]\n  [  1]\n  [  4]\n  [  6]\n  [  7]\n  [  2]\n  [  0]\n  [  0]\n  [  0]\n  [  0]\n  [  0]\n  [237]\n  [226]\n  [217]\n  [223]\n  [222]\n  [219]\n  [222]\n  [221]\n  [216]\n  [223]\n  [229]\n  [215]\n  [218]\n  [255]\n  [ 77]\n  [  0]]\n\n [[  0]\n  [  3]\n  [  0]\n  [  0]\n  [  0]\n  [  0]\n  [  0]\n  [  0]\n  [  0]\n  [ 62]\n  [145]\n  [204]\n  [228]\n  [207]\n  [213]\n  [221]\n  [218]\n  [208]\n  [211]\n  [218]\n  [224]\n  [223]\n  [219]\n  [215]\n  [224]\n  [244]\n  [159]\n  [  0]]\n\n [[  0]\n  [  0]\n  [  0]\n  [  0]\n  [ 18]\n  [ 44]\n  [ 82]\n  [107]\n  [189]\n  [228]\n  [220]\n  [222]\n  [217]\n  [226]\n  [200]\n  [205]\n  [211]\n  [230]\n  [224]\n  [234]\n  [176]\n  [188]\n  [250]\n  [248]\n  [233]\n  [238]\n  [215]\n  [  0]]\n\n [[  0]\n  [ 57]\n  [187]\n  [208]\n  [224]\n  [221]\n  [224]\n  [208]\n  [204]\n  [214]\n  [208]\n  [209]\n  [200]\n  [159]\n  [245]\n  [193]\n  [206]\n  [223]\n  [255]\n  [255]\n  [221]\n  [234]\n  [221]\n  [211]\n  [220]\n  [232]\n  [246]\n  [  0]]\n\n [[  3]\n  [202]\n  [228]\n  [224]\n  [221]\n  [211]\n  [211]\n  [214]\n  [205]\n  [205]\n  [205]\n  [220]\n  [240]\n  [ 80]\n  [150]\n  [255]\n  [229]\n  [221]\n  [188]\n  [154]\n  [191]\n  [210]\n  [204]\n  [209]\n  [222]\n  [228]\n  [225]\n  [  0]]\n\n [[ 98]\n  [233]\n  [198]\n  [210]\n  [222]\n  [229]\n  [229]\n  [234]\n  [249]\n  [220]\n  [194]\n  [215]\n  [217]\n  [241]\n  [ 65]\n  [ 73]\n  [106]\n  [117]\n  [168]\n  [219]\n  [221]\n  [215]\n  [217]\n  [223]\n  [223]\n  [224]\n  [229]\n  [ 29]]\n\n [[ 75]\n  [204]\n  [212]\n  [204]\n  [193]\n  [205]\n  [211]\n  [225]\n  [216]\n  [185]\n  [197]\n  [206]\n  [198]\n  [213]\n  [240]\n  [195]\n  [227]\n  [245]\n  [239]\n  [223]\n  [218]\n  [212]\n  [209]\n  [222]\n  [220]\n  [221]\n  [230]\n  [ 67]]\n\n [[ 48]\n  [203]\n  [183]\n  [194]\n  [213]\n  [197]\n  [185]\n  [190]\n  [194]\n  [192]\n  [202]\n  [214]\n  [219]\n  [221]\n  [220]\n  [236]\n  [225]\n  [216]\n  [199]\n  [206]\n  [186]\n  [181]\n  [177]\n  [172]\n  [181]\n  [205]\n  [206]\n  [115]]\n\n [[  0]\n  [122]\n  [219]\n  [193]\n  [179]\n  [171]\n  [183]\n  [196]\n  [204]\n  [210]\n  [213]\n  [207]\n  [211]\n  [210]\n  [200]\n  [196]\n  [194]\n  [191]\n  [195]\n  [191]\n  [198]\n  [192]\n  [176]\n  [156]\n  [167]\n  [177]\n  [210]\n  [ 92]]\n\n [[  0]\n  [  0]\n  [ 74]\n  [189]\n  [212]\n  [191]\n  [175]\n  [172]\n  [175]\n  [181]\n  [185]\n  [188]\n  [189]\n  [188]\n  [193]\n  [198]\n  [204]\n  [209]\n  [210]\n  [210]\n  [211]\n  [188]\n  [188]\n  [194]\n  [192]\n  [216]\n  [170]\n  [  0]]\n\n [[  2]\n  [  0]\n  [  0]\n  [  0]\n  [ 66]\n  [200]\n  [222]\n  [237]\n  [239]\n  [242]\n  [246]\n  [243]\n  [244]\n  [221]\n  [220]\n  [193]\n  [191]\n  [179]\n  [182]\n  [182]\n  [181]\n  [176]\n  [166]\n  [168]\n  [ 99]\n  [ 58]\n  [  0]\n  [  0]]\n\n [[  0]\n  [  0]\n  [  0]\n  [  0]\n  [  0]\n  [  0]\n  [  0]\n  [ 40]\n  [ 61]\n  [ 44]\n  [ 72]\n  [ 41]\n  [ 35]\n  [  0]\n  [  0]\n  [  0]\n  [  0]\n  [  0]\n  [  0]\n  [  0]\n  [  0]\n  [  0]\n  [  0]\n  [  0]\n  [  0]\n  [  0]\n  [  0]\n  [  0]]\n\n [[  0]\n  [  0]\n  [  0]\n  [  0]\n  [  0]\n  [  0]\n  [  0]\n  [  0]\n  [  0]\n  [  0]\n  [  0]\n  [  0]\n  [  0]\n  [  0]\n  [  0]\n  [  0]\n  [  0]\n  [  0]\n  [  0]\n  [  0]\n  [  0]\n  [  0]\n  [  0]\n  [  0]\n  [  0]\n  [  0]\n  [  0]\n  [  0]]\n\n [[  0]\n  [  0]\n  [  0]\n  [  0]\n  [  0]\n  [  0]\n  [  0]\n  [  0]\n  [  0]\n  [  0]\n  [  0]\n  [  0]\n  [  0]\n  [  0]\n  [  0]\n  [  0]\n  [  0]\n  [  0]\n  [  0]\n  [  0]\n  [  0]\n  [  0]\n  [  0]\n  [  0]\n  [  0]\n  [  0]\n  [  0]\n  [  0]]]\n"
                }
            ], 
            "source": "print(X_train[0])"
        }, 
        {
            "execution_count": 7, 
            "cell_type": "code", 
            "metadata": {}, 
            "outputs": [
                {
                    "output_type": "stream", 
                    "name": "stdout", 
                    "text": "[9 0 0 3 0 2 7 2 5 5]\n"
                }
            ], 
            "source": "# first 10 samples\nprint(y_train[0:10])"
        }, 
        {
            "source": "## One-hot encoding of labels", 
            "cell_type": "markdown", 
            "metadata": {}
        }, 
        {
            "execution_count": 8, 
            "cell_type": "code", 
            "metadata": {}, 
            "outputs": [], 
            "source": "y_train = to_categorical(y_train)\ny_test = to_categorical(y_test)"
        }, 
        {
            "execution_count": 9, 
            "cell_type": "code", 
            "metadata": {}, 
            "outputs": [
                {
                    "output_type": "stream", 
                    "name": "stdout", 
                    "text": "(60000, 10)\n[[0. 0. 0. 0. 0. 0. 0. 0. 0. 1.]\n [1. 0. 0. 0. 0. 0. 0. 0. 0. 0.]\n [1. 0. 0. 0. 0. 0. 0. 0. 0. 0.]\n [0. 0. 0. 1. 0. 0. 0. 0. 0. 0.]\n [1. 0. 0. 0. 0. 0. 0. 0. 0. 0.]] \n\n(10000, 10)\n[[0. 0. 0. 0. 0. 0. 0. 0. 0. 1.]\n [0. 0. 1. 0. 0. 0. 0. 0. 0. 0.]\n [0. 1. 0. 0. 0. 0. 0. 0. 0. 0.]\n [0. 1. 0. 0. 0. 0. 0. 0. 0. 0.]\n [0. 0. 0. 0. 0. 0. 1. 0. 0. 0.]]\n"
                }
            ], 
            "source": "print(y_train.shape)\nprint(y_train[0:5],\"\\n\")\nprint(y_test.shape)\nprint(y_test[0:5])"
        }, 
        {
            "source": "## Images in the data", 
            "cell_type": "markdown", 
            "metadata": {}
        }, 
        {
            "execution_count": 10, 
            "cell_type": "code", 
            "metadata": {}, 
            "outputs": [
                {
                    "output_type": "display_data", 
                    "data": {
                        "image/png": "[encoded data removed]", 
                        "text/plain": "<Figure size 2160x2160 with 5 Axes>"
                    }, 
                    "metadata": {
                        "needs_background": "light"
                    }
                }
            ], 
            "source": "f, ax = plt.subplots(1, 5, figsize=(30, 30))\nfor i in range(5):\n    ax[i].imshow(X_train[i].reshape(28, 28))"
        }, 
        {
            "source": "## Building CNN model", 
            "cell_type": "markdown", 
            "metadata": {}
        }, 
        {
            "execution_count": 11, 
            "cell_type": "code", 
            "metadata": {}, 
            "outputs": [], 
            "source": "model = Sequential([\n    ZeroPadding2D((1,1)),\n    Conv2D(32, (3, 3), activation='relu', input_shape=(28, 28, 1)),\n    MaxPooling2D((2,2)),\n    Dropout(0.25),\n    \n    ZeroPadding2D((1,1)),\n    Conv2D(64, (3, 3), activation='relu'),\n    MaxPooling2D((2,2)),\n    Dropout(0.25),\n    \n    ZeroPadding2D((1,1)),\n    Conv2D(128, (3,3), activation='relu'),\n    MaxPooling2D((2,2)),\n    Dropout(0.25),\n    \n    Flatten(),\n    Dense(128, activation='relu'),\n    Dropout(0.5),\n    Dense(10, activation='softmax')\n])"
        }, 
        {
            "source": "### Compiling the model", 
            "cell_type": "markdown", 
            "metadata": {}
        }, 
        {
            "execution_count": 12, 
            "cell_type": "code", 
            "metadata": {}, 
            "outputs": [
                {
                    "output_type": "stream", 
                    "name": "stdout", 
                    "text": "WARNING:tensorflow:From /opt/conda/envs/Python36/lib/python3.6/site-packages/tensorflow/python/framework/op_def_library.py:263: colocate_with (from tensorflow.python.framework.ops) is deprecated and will be removed in a future version.\nInstructions for updating:\nColocations handled automatically by placer.\n"
                }
            ], 
            "source": "model.compile(optimizer=Adam(lr=0.001),\n              loss='categorical_crossentropy',\n              metrics=['accuracy'])"
        }, 
        {
            "execution_count": 13, 
            "cell_type": "code", 
            "metadata": {}, 
            "outputs": [
                {
                    "output_type": "stream", 
                    "name": "stdout", 
                    "text": "WARNING:tensorflow:From /opt/conda/envs/Python36/lib/python3.6/site-packages/keras/backend/tensorflow_backend.py:3445: calling dropout (from tensorflow.python.ops.nn_ops) with keep_prob is deprecated and will be removed in a future version.\nInstructions for updating:\nPlease use `rate` instead of `keep_prob`. Rate should be set to `rate = 1 - keep_prob`.\nWARNING:tensorflow:From /opt/conda/envs/Python36/lib/python3.6/site-packages/tensorflow/python/ops/math_ops.py:3066: to_int32 (from tensorflow.python.ops.math_ops) is deprecated and will be removed in a future version.\nInstructions for updating:\nUse tf.cast instead.\nTrain on 54000 samples, validate on 6000 samples\nEpoch 1/50\n54000/54000 [==============================] - 217s 4ms/step - loss: 3.6393 - acc: 0.5506 - val_loss: 0.5188 - val_acc: 0.8177\nEpoch 2/50\n54000/54000 [==============================] - 206s 4ms/step - loss: 0.6136 - acc: 0.7764 - val_loss: 0.3886 - val_acc: 0.8467\nEpoch 3/50\n54000/54000 [==============================] - 207s 4ms/step - loss: 0.5062 - acc: 0.8158 - val_loss: 0.3412 - val_acc: 0.8738\nEpoch 4/50\n54000/54000 [==============================] - 213s 4ms/step - loss: 0.4499 - acc: 0.8383 - val_loss: 0.3201 - val_acc: 0.8780\nEpoch 5/50\n54000/54000 [==============================] - 217s 4ms/step - loss: 0.4162 - acc: 0.8490 - val_loss: 0.3035 - val_acc: 0.8838\nEpoch 6/50\n54000/54000 [==============================] - 222s 4ms/step - loss: 0.3898 - acc: 0.8576 - val_loss: 0.2903 - val_acc: 0.8883\nEpoch 7/50\n54000/54000 [==============================] - 213s 4ms/step - loss: 0.3694 - acc: 0.8645 - val_loss: 0.2769 - val_acc: 0.8948\nEpoch 8/50\n54000/54000 [==============================] - 210s 4ms/step - loss: 0.3546 - acc: 0.8721 - val_loss: 0.2769 - val_acc: 0.8978\nEpoch 9/50\n54000/54000 [==============================] - 211s 4ms/step - loss: 0.3394 - acc: 0.8749 - val_loss: 0.2692 - val_acc: 0.8945\nEpoch 10/50\n54000/54000 [==============================] - 211s 4ms/step - loss: 0.3280 - acc: 0.8814 - val_loss: 0.2550 - val_acc: 0.9030\nEpoch 11/50\n54000/54000 [==============================] - 208s 4ms/step - loss: 0.3174 - acc: 0.8845 - val_loss: 0.2465 - val_acc: 0.9048\nEpoch 12/50\n54000/54000 [==============================] - 208s 4ms/step - loss: 0.3123 - acc: 0.8862 - val_loss: 0.2460 - val_acc: 0.9060\nEpoch 13/50\n54000/54000 [==============================] - 217s 4ms/step - loss: 0.3093 - acc: 0.8888 - val_loss: 0.2419 - val_acc: 0.9082\nEpoch 14/50\n54000/54000 [==============================] - 216s 4ms/step - loss: 0.2955 - acc: 0.8925 - val_loss: 0.2420 - val_acc: 0.9110\nEpoch 15/50\n54000/54000 [==============================] - 207s 4ms/step - loss: 0.2949 - acc: 0.8923 - val_loss: 0.2364 - val_acc: 0.9098\nEpoch 16/50\n54000/54000 [==============================] - 204s 4ms/step - loss: 0.2880 - acc: 0.8940 - val_loss: 0.2330 - val_acc: 0.9150\nEpoch 17/50\n54000/54000 [==============================] - 208s 4ms/step - loss: 0.2854 - acc: 0.8957 - val_loss: 0.2352 - val_acc: 0.9085\nEpoch 18/50\n54000/54000 [==============================] - 213s 4ms/step - loss: 0.2749 - acc: 0.9004 - val_loss: 0.2331 - val_acc: 0.9135\nEpoch 19/50\n54000/54000 [==============================] - 212s 4ms/step - loss: 0.2774 - acc: 0.8977 - val_loss: 0.2273 - val_acc: 0.9148\nEpoch 20/50\n54000/54000 [==============================] - 211s 4ms/step - loss: 0.2651 - acc: 0.9020 - val_loss: 0.2328 - val_acc: 0.9153\nEpoch 21/50\n54000/54000 [==============================] - 207s 4ms/step - loss: 0.2636 - acc: 0.9040 - val_loss: 0.2322 - val_acc: 0.9127\nEpoch 22/50\n54000/54000 [==============================] - 208s 4ms/step - loss: 0.2592 - acc: 0.9047 - val_loss: 0.2189 - val_acc: 0.9197\nEpoch 23/50\n54000/54000 [==============================] - 207s 4ms/step - loss: 0.2590 - acc: 0.9050 - val_loss: 0.2171 - val_acc: 0.9192\nEpoch 24/50\n54000/54000 [==============================] - 209s 4ms/step - loss: 0.2548 - acc: 0.9069 - val_loss: 0.2180 - val_acc: 0.9205\nEpoch 25/50\n54000/54000 [==============================] - 204s 4ms/step - loss: 0.2537 - acc: 0.9071 - val_loss: 0.2223 - val_acc: 0.9157\nEpoch 26/50\n54000/54000 [==============================] - 211s 4ms/step - loss: 0.2531 - acc: 0.9055 - val_loss: 0.2184 - val_acc: 0.9177\nEpoch 27/50\n54000/54000 [==============================] - 207s 4ms/step - loss: 0.2505 - acc: 0.9073 - val_loss: 0.2189 - val_acc: 0.9170\nEpoch 28/50\n54000/54000 [==============================] - 207s 4ms/step - loss: 0.2463 - acc: 0.9089 - val_loss: 0.2179 - val_acc: 0.9222\nEpoch 29/50\n54000/54000 [==============================] - 210s 4ms/step - loss: 0.2424 - acc: 0.9095 - val_loss: 0.2156 - val_acc: 0.9213\nEpoch 30/50\n54000/54000 [==============================] - 207s 4ms/step - loss: 0.2390 - acc: 0.9120 - val_loss: 0.2183 - val_acc: 0.9228\nEpoch 31/50\n54000/54000 [==============================] - 209s 4ms/step - loss: 0.2359 - acc: 0.9116 - val_loss: 0.2068 - val_acc: 0.9247\nEpoch 32/50\n54000/54000 [==============================] - 209s 4ms/step - loss: 0.2363 - acc: 0.9121 - val_loss: 0.2087 - val_acc: 0.9253\nEpoch 33/50\n54000/54000 [==============================] - 204s 4ms/step - loss: 0.2387 - acc: 0.9122 - val_loss: 0.2162 - val_acc: 0.9222\nEpoch 34/50\n54000/54000 [==============================] - 208s 4ms/step - loss: 0.2339 - acc: 0.9140 - val_loss: 0.2110 - val_acc: 0.9227\nEpoch 35/50\n54000/54000 [==============================] - 208s 4ms/step - loss: 0.2337 - acc: 0.9134 - val_loss: 0.2143 - val_acc: 0.9228\nEpoch 36/50\n54000/54000 [==============================] - 208s 4ms/step - loss: 0.2301 - acc: 0.9134 - val_loss: 0.2047 - val_acc: 0.9243\nEpoch 37/50\n54000/54000 [==============================] - 208s 4ms/step - loss: 0.2299 - acc: 0.9149 - val_loss: 0.2259 - val_acc: 0.9148\nEpoch 38/50\n54000/54000 [==============================] - 209s 4ms/step - loss: 0.2268 - acc: 0.9153 - val_loss: 0.2077 - val_acc: 0.9265\nEpoch 39/50\n54000/54000 [==============================] - 209s 4ms/step - loss: 0.2251 - acc: 0.9168 - val_loss: 0.2065 - val_acc: 0.9237\nEpoch 40/50\n54000/54000 [==============================] - 207s 4ms/step - loss: 0.2254 - acc: 0.9158 - val_loss: 0.2079 - val_acc: 0.9242\nEpoch 41/50\n54000/54000 [==============================] - 206s 4ms/step - loss: 0.2237 - acc: 0.9160 - val_loss: 0.2044 - val_acc: 0.9270\nEpoch 42/50\n54000/54000 [==============================] - 206s 4ms/step - loss: 0.2210 - acc: 0.9184 - val_loss: 0.2058 - val_acc: 0.9260\nEpoch 43/50\n54000/54000 [==============================] - 205s 4ms/step - loss: 0.2204 - acc: 0.9165 - val_loss: 0.2054 - val_acc: 0.9265\nEpoch 44/50\n54000/54000 [==============================] - 205s 4ms/step - loss: 0.2187 - acc: 0.9190 - val_loss: 0.2011 - val_acc: 0.9273\nEpoch 45/50\n54000/54000 [==============================] - 209s 4ms/step - loss: 0.2226 - acc: 0.9174 - val_loss: 0.2038 - val_acc: 0.9248\nEpoch 46/50\n54000/54000 [==============================] - 205s 4ms/step - loss: 0.2222 - acc: 0.9171 - val_loss: 0.2203 - val_acc: 0.9235\nEpoch 47/50\n54000/54000 [==============================] - 207s 4ms/step - loss: 0.2173 - acc: 0.9182 - val_loss: 0.2098 - val_acc: 0.9208\nEpoch 48/50\n54000/54000 [==============================] - 207s 4ms/step - loss: 0.2183 - acc: 0.9199 - val_loss: 0.2118 - val_acc: 0.9230\nEpoch 49/50\n54000/54000 [==============================] - 204s 4ms/step - loss: 0.2171 - acc: 0.9195 - val_loss: 0.2077 - val_acc: 0.9255\nEpoch 50/50\n54000/54000 [==============================] - 203s 4ms/step - loss: 0.2187 - acc: 0.9187 - val_loss: 0.2038 - val_acc: 0.9297\n"
                }, 
                {
                    "execution_count": 13, 
                    "metadata": {}, 
                    "data": {
                        "text/plain": "<keras.callbacks.History at 0x7fb2b07279e8>"
                    }, 
                    "output_type": "execute_result"
                }
            ], 
            "source": "model.fit(X_train, y_train, validation_split = 0.1,\n          batch_size=240, epochs = 50, verbose=1)"
        }, 
        {
            "execution_count": 14, 
            "cell_type": "code", 
            "metadata": {}, 
            "outputs": [
                {
                    "output_type": "stream", 
                    "name": "stdout", 
                    "text": "_________________________________________________________________\nLayer (type)                 Output Shape              Param #   \n=================================================================\nzero_padding2d_1 (ZeroPaddin (None, 30, 30, 1)         0         \n_________________________________________________________________\nconv2d_1 (Conv2D)            (None, 28, 28, 32)        320       \n_________________________________________________________________\nmax_pooling2d_1 (MaxPooling2 (None, 14, 14, 32)        0         \n_________________________________________________________________\ndropout_1 (Dropout)          (None, 14, 14, 32)        0         \n_________________________________________________________________\nzero_padding2d_2 (ZeroPaddin (None, 16, 16, 32)        0         \n_________________________________________________________________\nconv2d_2 (Conv2D)            (None, 14, 14, 64)        18496     \n_________________________________________________________________\nmax_pooling2d_2 (MaxPooling2 (None, 7, 7, 64)          0         \n_________________________________________________________________\ndropout_2 (Dropout)          (None, 7, 7, 64)          0         \n_________________________________________________________________\nzero_padding2d_3 (ZeroPaddin (None, 9, 9, 64)          0         \n_________________________________________________________________\nconv2d_3 (Conv2D)            (None, 7, 7, 128)         73856     \n_________________________________________________________________\nmax_pooling2d_3 (MaxPooling2 (None, 3, 3, 128)         0         \n_________________________________________________________________\ndropout_3 (Dropout)          (None, 3, 3, 128)         0         \n_________________________________________________________________\nflatten_1 (Flatten)          (None, 1152)              0         \n_________________________________________________________________\ndense_1 (Dense)              (None, 128)               147584    \n_________________________________________________________________\ndropout_4 (Dropout)          (None, 128)               0         \n_________________________________________________________________\ndense_2 (Dense)              (None, 10)                1290      \n=================================================================\nTotal params: 241,546\nTrainable params: 241,546\nNon-trainable params: 0\n_________________________________________________________________\n"
                }
            ], 
            "source": "model.summary()"
        }, 
        {
            "source": "## Evaluating the model", 
            "cell_type": "markdown", 
            "metadata": {}
        }, 
        {
            "execution_count": 15, 
            "cell_type": "code", 
            "metadata": {}, 
            "outputs": [
                {
                    "output_type": "stream", 
                    "name": "stdout", 
                    "text": "10000/10000 [==============================] - 30s 3ms/step\nLoss : 0.2249596336722374\nAccuracy :92.22%\n"
                }
            ], 
            "source": "score = model.evaluate(X_test, y_test, verbose=1)\nprint('Loss :', score[0])\nprint('Accuracy :' + str(score[1] * 100) + '%')"
        }
    ], 
    "metadata": {
        "kernelspec": {
            "display_name": "Python 3.6", 
            "name": "python3", 
            "language": "python"
        }, 
        "language_info": {
            "mimetype": "text/x-python", 
            "nbconvert_exporter": "python", 
            "version": "3.6.8", 
            "name": "python", 
            "file_extension": ".py", 
            "pygments_lexer": "ipython3", 
            "codemirror_mode": {
                "version": 3, 
                "name": "ipython"
            }
        }
    }, 
    "nbformat": 4
}